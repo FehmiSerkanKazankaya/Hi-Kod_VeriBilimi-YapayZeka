{
  "nbformat": 4,
  "nbformat_minor": 0,
  "metadata": {
    "colab": {
      "provenance": []
    },
    "kernelspec": {
      "name": "python3",
      "display_name": "Python 3"
    },
    "language_info": {
      "name": "python"
    }
  },
  "cells": [
    {
      "cell_type": "markdown",
      "source": [
        "# **Veri Bilimi Atölyesi-5**"
      ],
      "metadata": {
        "id": "3cgBC3jMyIYm"
      }
    },
    {
      "cell_type": "markdown",
      "source": [
        "Aşağıdaki işlemleri indexing ve slicing kullanarak liste üzerinde uygulayın.\n",
        "\n",
        "liste = [\"Python\",True,9,\"3\",8.4,\"Hi-Kod\",\"False\",4.7]\n",
        "\n",
        "\"3\" değerine ulaşmak için indexleme yapın.\n",
        "\n",
        "\"Hi-Kod\" değerine ulaşmak için indexleme yapın.\n",
        "\n",
        "4.7 değerine ulaşmak için indexleme yapın.\n",
        "\n",
        "9,\"3\",8.4,\"Hi-Kod\" değerlerine ulaşmak için slicing yapın.\n",
        "\n",
        "8.4,\"Hi-Kod\",\"False\",4.7 değerlerine ulaşmak için slicing yapın."
      ],
      "metadata": {
        "id": "bQeDOIAmyIbG"
      }
    },
    {
      "cell_type": "code",
      "source": [
        "liste = [\"Python\",True,9,\"3\",8.4,\"Hi-Kod\",\"False\",4.7]"
      ],
      "metadata": {
        "id": "fQJrzEVAyf93"
      },
      "execution_count": 1,
      "outputs": []
    },
    {
      "cell_type": "code",
      "source": [
        "print(liste[3])"
      ],
      "metadata": {
        "colab": {
          "base_uri": "https://localhost:8080/"
        },
        "id": "9hS-af9FyhHx",
        "outputId": "e00e215b-5138-4335-d907-217423c9f896"
      },
      "execution_count": 2,
      "outputs": [
        {
          "output_type": "stream",
          "name": "stdout",
          "text": [
            "3\n"
          ]
        }
      ]
    },
    {
      "cell_type": "code",
      "source": [
        "print(liste[5])"
      ],
      "metadata": {
        "colab": {
          "base_uri": "https://localhost:8080/"
        },
        "id": "qnjD3MlpyjFN",
        "outputId": "083dc4cf-6ec0-438f-fbf4-708d9e61ae1a"
      },
      "execution_count": 3,
      "outputs": [
        {
          "output_type": "stream",
          "name": "stdout",
          "text": [
            "Hi-Kod\n"
          ]
        }
      ]
    },
    {
      "cell_type": "code",
      "source": [
        "print(liste[-1])"
      ],
      "metadata": {
        "colab": {
          "base_uri": "https://localhost:8080/"
        },
        "id": "FCu_dRJTyjHv",
        "outputId": "50661525-971a-47db-c66c-5620c480fc72"
      },
      "execution_count": 4,
      "outputs": [
        {
          "output_type": "stream",
          "name": "stdout",
          "text": [
            "4.7\n"
          ]
        }
      ]
    },
    {
      "cell_type": "code",
      "source": [
        "liste[2:6]"
      ],
      "metadata": {
        "colab": {
          "base_uri": "https://localhost:8080/"
        },
        "id": "E3kDWnS-yjJ3",
        "outputId": "426748ab-7fd4-47a5-f33c-be80b0314032"
      },
      "execution_count": 5,
      "outputs": [
        {
          "output_type": "execute_result",
          "data": {
            "text/plain": [
              "[9, '3', 8.4, 'Hi-Kod']"
            ]
          },
          "metadata": {},
          "execution_count": 5
        }
      ]
    },
    {
      "cell_type": "code",
      "source": [
        "liste[4:]"
      ],
      "metadata": {
        "colab": {
          "base_uri": "https://localhost:8080/"
        },
        "id": "ZhQ6_g0dyqqU",
        "outputId": "e7598da3-c0a1-45ae-9c71-d0b0e2cd563a"
      },
      "execution_count": 6,
      "outputs": [
        {
          "output_type": "execute_result",
          "data": {
            "text/plain": [
              "[8.4, 'Hi-Kod', 'False', 4.7]"
            ]
          },
          "metadata": {},
          "execution_count": 6
        }
      ]
    },
    {
      "cell_type": "markdown",
      "source": [
        "Verilen listede bulunan string veri tipindeki öğeleri yeni_liste isimli listeye eklenir."
      ],
      "metadata": {
        "id": "1q4emwmzyyGs"
      }
    },
    {
      "cell_type": "code",
      "source": [
        "liste = [\"Python\",True,9,\"3\",8.4,\"Hi-Kod\",\"False\",4.7]\n",
        "yeni_liste=[]\n",
        "\n",
        "for i in liste:\n",
        "    if type(i)==str:\n",
        "        yeni_liste.append([i])\n",
        "yeni_liste"
      ],
      "metadata": {
        "colab": {
          "base_uri": "https://localhost:8080/"
        },
        "id": "V1JUVg11yy6S",
        "outputId": "9e9c0be4-12d1-4aaf-e3d0-7d7c6820acfc"
      },
      "execution_count": 7,
      "outputs": [
        {
          "output_type": "execute_result",
          "data": {
            "text/plain": [
              "[['Python'], ['3'], ['Hi-Kod'], ['False']]"
            ]
          },
          "metadata": {},
          "execution_count": 7
        }
      ]
    },
    {
      "cell_type": "markdown",
      "source": [
        "Enumerate methodunu araştırın ve aşağıdaki örneği enumerate methodu ile yapın.\n",
        "\n",
        "for index in range(len(meyveler)):\n",
        "\n",
        "          print(\"{}. indexte bulunan meyve: {}\".format(index,meyveler[index])"
      ],
      "metadata": {
        "id": "CPiE7KpyzQ_1"
      }
    },
    {
      "cell_type": "code",
      "source": [
        "meyveler=[\"elma\",\"portakal\",\"karpuz\",\"muz\",\"çilek\"]\n",
        "\n",
        "for index, deger in enumerate(meyveler):\n",
        "    print(\"{}.indexte bulunan meyve: {}\".format(index,deger))"
      ],
      "metadata": {
        "colab": {
          "base_uri": "https://localhost:8080/"
        },
        "id": "lEkD2_GTzR-K",
        "outputId": "65842e44-2ce9-4cdb-8506-3f649651e98a"
      },
      "execution_count": 8,
      "outputs": [
        {
          "output_type": "stream",
          "name": "stdout",
          "text": [
            "0.indexte bulunan meyve: elma\n",
            "1.indexte bulunan meyve: portakal\n",
            "2.indexte bulunan meyve: karpuz\n",
            "3.indexte bulunan meyve: muz\n",
            "4.indexte bulunan meyve: çilek\n"
          ]
        }
      ]
    }
  ]
}