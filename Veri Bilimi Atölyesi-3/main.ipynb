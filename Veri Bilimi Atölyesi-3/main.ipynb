{
  "nbformat": 4,
  "nbformat_minor": 0,
  "metadata": {
    "colab": {
      "provenance": []
    },
    "kernelspec": {
      "name": "python3",
      "display_name": "Python 3"
    },
    "language_info": {
      "name": "python"
    }
  },
  "cells": [
    {
      "cell_type": "markdown",
      "source": [
        "# **Veri Bilimi Atölyesi-3**"
      ],
      "metadata": {
        "id": "NGlhhdWlexSM"
      }
    },
    {
      "cell_type": "markdown",
      "source": [
        "Ödev-1: Kullanıcıdan maaş bilgisini istenir ve bu bilgiye göre maaşından ne kadar vergi kesileceğini hesaplanır. Kullanıcının geliri;\n",
        "\n",
        " 10000 ve altındaysa maaşından %5 kesinti olur.\n",
        "\n",
        " 25000 ve altındaysa maaşından %10 kesinti olur.\n",
        "\n",
        " 45000 ve altındaysa maaşından %25 kesinti olur.\n",
        "\n",
        " Diğer koşullarda %30 kesinti olur.\n",
        "\n",
        "Bu durumlara göre kullanıcının yeni maaşı yazdırılır."
      ],
      "metadata": {
        "id": "Yrc08IsAexUu"
      }
    },
    {
      "cell_type": "code",
      "source": [
        "maas= int(input(\"Maaş Bilginizi Gİriniz:\"))\n",
        "\n",
        "if maas<10000:\n",
        "    maas-=(maas/100)*5\n",
        "    print(\"Vergi Kesintisinden Sonra Maaşınız:\",maas)\n",
        "elif maas<25000:\n",
        "    maas-=(maas/100)*10\n",
        "    print(\"Vergi Kesintisinden Sonra Maaşınız:\",maas)\n",
        "elif maas<45000:\n",
        "    maas-=(maas/100)*25\n",
        "    print(\"Vergi Kesintisinden Sonra Maaşınız:\",maas)\n",
        "else:\n",
        "    maas-=(maas/100)*30\n",
        "    print(\"Vergi Kesintisinden Sonra Maaşınız:\",maas)"
      ],
      "metadata": {
        "colab": {
          "base_uri": "https://localhost:8080/"
        },
        "id": "v362wr5kfAHH",
        "outputId": "720b9e04-f8b2-41e7-dbba-80f1beb044a8"
      },
      "execution_count": 1,
      "outputs": [
        {
          "output_type": "stream",
          "name": "stdout",
          "text": [
            "Maaş Bilginizi Gİriniz:12000\n",
            "Vergi Kesintisinden Sonra Maaşınız: 10800.0\n"
          ]
        }
      ]
    },
    {
      "cell_type": "markdown",
      "source": [
        "Ödev-2: Kullanıcıdan kullanıcı adı ve şifre oluşturmasını istenir. Şifrenin uzunluğu altı haneye ulaşmışsa hesabınız oluşturuldu mesajı alınır, altı haneden azsa altı haneli şifre oluşturması gerektiğinin mesajı alınır. (Sadece koşul kullanılması yeterli.)"
      ],
      "metadata": {
        "id": "MLG-_bs7ia10"
      }
    },
    {
      "cell_type": "code",
      "source": [
        "kullanici_Adi=input(\"Kullanıcı Adı Giriniz:\")\n",
        "sifre=input(\"Şifrenizi Giriniz:\")\n",
        "\n",
        "if len(sifre)>=6:\n",
        "    print(\"Hesabınız Oluşturuldu:)\")\n",
        "else:\n",
        "    print(\"Lütfen 6 Haneli Bir Şifre Yazınız!\")"
      ],
      "metadata": {
        "colab": {
          "base_uri": "https://localhost:8080/"
        },
        "id": "vv2c669PibnB",
        "outputId": "7b11eb52-d981-41b7-d26d-98b05c99d55d"
      },
      "execution_count": 2,
      "outputs": [
        {
          "output_type": "stream",
          "name": "stdout",
          "text": [
            "Kullanıcı Adı Giriniz:SERKAN\n",
            "Şifrenizi Giriniz:12345\n",
            "Lütfen 6 Haneli Bir Şifre Yazınız!\n"
          ]
        }
      ]
    },
    {
      "cell_type": "markdown",
      "source": [
        "Ödev-3: Bir önceki örnek geliştirilir.\n",
        "\n",
        "\n",
        " Kullanıcı girdiği şifre 5 ve 10 hane arasında olmak zorunda.\n",
        " Eğer bu koşula uyuyorsa \"Hesabınız oluşturuldu.\" mesajı alır.\n",
        " Koşulu sağlamıyorsa \"Lütfen girdiniz şifre 5 haneden az 10 haneden fazla olmasın!\" uyarısı alır.\n",
        " Bunu oluştururken kullanıcı istediğimiz şartlarda şifre oluşturana kadar sormaya devam eder\n"
      ],
      "metadata": {
        "id": "XCurw4iLisny"
      }
    },
    {
      "cell_type": "code",
      "source": [
        "while True:\n",
        "    kullanici_Adi=input(\"Kullanıcı Adı Giriniz:\")\n",
        "    sifre=input(\"Şifrenizi Giriniz:\")\n",
        "    if 5<=len(sifre)<=10:\n",
        "        print(\"Hesabınız Oluşturuldu:)\")\n",
        "        break\n",
        "    else:\n",
        "        print(\"Lütfen girdiniz şifre 5 haneden az 10 haneden fazla olmasın!\")"
      ],
      "metadata": {
        "colab": {
          "base_uri": "https://localhost:8080/"
        },
        "id": "wNUPqHqTixeV",
        "outputId": "f95ba183-ab26-4d37-99b9-8888fb059150"
      },
      "execution_count": 3,
      "outputs": [
        {
          "output_type": "stream",
          "name": "stdout",
          "text": [
            "Kullanıcı Adı Giriniz:SERKAN\n",
            "Şifrenizi Giriniz:1234\n",
            "Lütfen girdiniz şifre 5 haneden az 10 haneden fazla olmasın!\n",
            "Kullanıcı Adı Giriniz:SERKAN\n",
            "Şifrenizi Giriniz:123456\n",
            "Hesabınız Oluşturuldu:)\n"
          ]
        }
      ]
    },
    {
      "cell_type": "markdown",
      "source": [
        "Ödev-4: Kullanıcıdan isim ve şifre isteyeceğiz ve şifre girişi için üç hak verilir.\n",
        "\n",
        "\n",
        " Eğer önceden tanımlı şifre ile kullanıcıdan gelen şifre aynıysa \"Giriş yapıldı.\" yazar.\n",
        "\n",
        " Şifre girişi yanlışsa \"Yanlış şifre girildi!\" uyarısı verilsin ve üç yanlış denemede program biter.\n",
        "\n",
        " Tercihe göre kalan hak bilgisi verilir."
      ],
      "metadata": {
        "id": "_DDq0QQnjDpO"
      }
    },
    {
      "cell_type": "code",
      "source": [
        "hak = 0\n",
        "sifre1 = \"12345\"\n",
        "\n",
        "while hak < 3:\n",
        "    kullanici_Adi = input(\"Kullanıcı Adı Giriniz:\")\n",
        "    sifre = input(\"Şifrenizi Giriniz:\")\n",
        "\n",
        "    if  sifre != sifre1:\n",
        "        print(\"Yanlış şifre girildi!\")\n",
        "        hak += 1\n",
        "    else:\n",
        "        print(\"Doğru şifre! Giriş başarılı.\")\n",
        "        break\n",
        "else:\n",
        "    print(\"Üç kez yanlış şifre girişi yapıldı. Hesap kilitlendi.\")"
      ],
      "metadata": {
        "colab": {
          "base_uri": "https://localhost:8080/"
        },
        "id": "wWQQgo5tjH8N",
        "outputId": "9da6b716-74dc-4aa6-fe26-24c40d999d31"
      },
      "execution_count": 4,
      "outputs": [
        {
          "output_type": "stream",
          "name": "stdout",
          "text": [
            "Kullanıcı Adı Giriniz:SERKAN\n",
            "Şifrenizi Giriniz:1234\n",
            "Yanlış şifre girildi!\n",
            "Kullanıcı Adı Giriniz:SERKAN\n",
            "Şifrenizi Giriniz:123456\n",
            "Yanlış şifre girildi!\n",
            "Kullanıcı Adı Giriniz:SERKAN\n",
            "Şifrenizi Giriniz:123123\n",
            "Yanlış şifre girildi!\n",
            "Üç kez yanlış şifre girişi yapıldı. Hesap kilitlendi.\n"
          ]
        }
      ]
    }
  ]
}