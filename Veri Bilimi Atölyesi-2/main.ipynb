{
  "nbformat": 4,
  "nbformat_minor": 0,
  "metadata": {
    "colab": {
      "provenance": []
    },
    "kernelspec": {
      "name": "python3",
      "display_name": "Python 3"
    },
    "language_info": {
      "name": "python"
    }
  },
  "cells": [
    {
      "cell_type": "markdown",
      "source": [
        "# **Veri Bilimi Atölyesi-2**\n"
      ],
      "metadata": {
        "id": "Qv43dmZVXtOt"
      }
    },
    {
      "cell_type": "markdown",
      "source": [
        "Ödev-1: Değişkenlere atanmış değerlerin veri tipleri arasında dönüşüm yapılır.\n"
      ],
      "metadata": {
        "id": "wUyVOvv1Xnqx"
      }
    },
    {
      "cell_type": "code",
      "source": [
        "# x = 3 ----> floata çevirelim. Çevirdikten sonra veri tipinide yazdıralım."
      ],
      "metadata": {
        "id": "w7sMuns5Yryl"
      },
      "execution_count": null,
      "outputs": []
    },
    {
      "cell_type": "code",
      "source": [
        "x=3"
      ],
      "metadata": {
        "id": "f_bC4D6kZDUl"
      },
      "execution_count": 1,
      "outputs": []
    },
    {
      "cell_type": "code",
      "source": [
        "x=float(x)\n",
        "type(x)"
      ],
      "metadata": {
        "colab": {
          "base_uri": "https://localhost:8080/"
        },
        "id": "ZOt__gf3Yr1X",
        "outputId": "7e8f8e70-5476-4f2b-eaf5-f13bbc53bb16"
      },
      "execution_count": 3,
      "outputs": [
        {
          "output_type": "execute_result",
          "data": {
            "text/plain": [
              "float"
            ]
          },
          "metadata": {},
          "execution_count": 3
        }
      ]
    },
    {
      "cell_type": "code",
      "source": [
        "# y = 4.5 -----> integer çevirelim. Çevirdikten sonra veri tipinide yazdıralım."
      ],
      "metadata": {
        "id": "r0_wY69UYr31"
      },
      "execution_count": null,
      "outputs": []
    },
    {
      "cell_type": "code",
      "source": [
        "y = 4.5"
      ],
      "metadata": {
        "id": "GDzJ9-M0Yr6n"
      },
      "execution_count": 5,
      "outputs": []
    },
    {
      "cell_type": "code",
      "source": [
        "y=int(y)\n",
        "type(y)"
      ],
      "metadata": {
        "colab": {
          "base_uri": "https://localhost:8080/"
        },
        "id": "rvR_IWW8Yr9Q",
        "outputId": "25c084d2-9e1a-43f1-ace4-95cb0f7a9fa9"
      },
      "execution_count": 6,
      "outputs": [
        {
          "output_type": "execute_result",
          "data": {
            "text/plain": [
              "int"
            ]
          },
          "metadata": {},
          "execution_count": 6
        }
      ]
    },
    {
      "cell_type": "code",
      "source": [
        "# z = \"8\" -----> integer çevirelim. Çevirdikten sonra veri tipinide yazdıralım."
      ],
      "metadata": {
        "id": "4rVpl5FeYsAC"
      },
      "execution_count": null,
      "outputs": []
    },
    {
      "cell_type": "code",
      "source": [
        "z = \"8\""
      ],
      "metadata": {
        "id": "iWHuWi-vYsCn"
      },
      "execution_count": 7,
      "outputs": []
    },
    {
      "cell_type": "code",
      "source": [
        "z=int(z)\n",
        "type(z)"
      ],
      "metadata": {
        "colab": {
          "base_uri": "https://localhost:8080/"
        },
        "id": "k_m6ZKhXYsFS",
        "outputId": "be7b3020-e450-4ce3-833b-27d0932e01ae"
      },
      "execution_count": 8,
      "outputs": [
        {
          "output_type": "execute_result",
          "data": {
            "text/plain": [
              "int"
            ]
          },
          "metadata": {},
          "execution_count": 8
        }
      ]
    },
    {
      "cell_type": "code",
      "source": [
        "# a = \"12\" -----> floata çevirelim. Çevirdikten sonra veri tipinide yazdıralım."
      ],
      "metadata": {
        "id": "r-99jJRjYsH2"
      },
      "execution_count": null,
      "outputs": []
    },
    {
      "cell_type": "code",
      "source": [
        "a = \"12\""
      ],
      "metadata": {
        "id": "vuIpqd6yYsKd"
      },
      "execution_count": 9,
      "outputs": []
    },
    {
      "cell_type": "code",
      "source": [
        "a=float(a)\n",
        "type(a)"
      ],
      "metadata": {
        "colab": {
          "base_uri": "https://localhost:8080/"
        },
        "id": "PdnDnps-Z0Yj",
        "outputId": "03c554be-8b94-4f0b-91fb-5184ad595d92"
      },
      "execution_count": 11,
      "outputs": [
        {
          "output_type": "execute_result",
          "data": {
            "text/plain": [
              "float"
            ]
          },
          "metadata": {},
          "execution_count": 11
        }
      ]
    },
    {
      "cell_type": "code",
      "source": [
        "# b = \"46.8\" ------> integer çevirelim. Çevirdikten sonra veri tipinide yazdıralım."
      ],
      "metadata": {
        "id": "GnXmgOffZ8kY"
      },
      "execution_count": null,
      "outputs": []
    },
    {
      "cell_type": "code",
      "source": [
        "b = 46.8"
      ],
      "metadata": {
        "id": "wcgFVPRpZ_wq"
      },
      "execution_count": 14,
      "outputs": []
    },
    {
      "cell_type": "code",
      "source": [
        "b=int(b)\n",
        "type(b)"
      ],
      "metadata": {
        "colab": {
          "base_uri": "https://localhost:8080/"
        },
        "id": "y2tVvpHhZ_zo",
        "outputId": "a0bfee33-5b7c-400c-989a-55d63bb121a1"
      },
      "execution_count": 15,
      "outputs": [
        {
          "output_type": "execute_result",
          "data": {
            "text/plain": [
              "int"
            ]
          },
          "metadata": {},
          "execution_count": 15
        }
      ]
    },
    {
      "cell_type": "markdown",
      "source": [
        "Ödev-2: İsimlerden oluşan üç değişkene yaş değerleri atanır. Belirlenen üç değişken birbiriyle karşılaştırma operatörleri ile karşılaştırılır. Bu karşılaştırmalara mantıksal operatörler de eklenir."
      ],
      "metadata": {
        "id": "9MlRfFhEYbK-"
      }
    },
    {
      "cell_type": "code",
      "source": [
        "serkan=22\n",
        "can=27\n",
        "ece=12"
      ],
      "metadata": {
        "id": "-a3o6IC7bDMo"
      },
      "execution_count": 16,
      "outputs": []
    },
    {
      "cell_type": "code",
      "source": [
        "serkan<can"
      ],
      "metadata": {
        "colab": {
          "base_uri": "https://localhost:8080/"
        },
        "id": "j2LbXs_GbDPP",
        "outputId": "ad2122c7-b9dd-4821-8bf0-fded1535db86"
      },
      "execution_count": 17,
      "outputs": [
        {
          "output_type": "execute_result",
          "data": {
            "text/plain": [
              "True"
            ]
          },
          "metadata": {},
          "execution_count": 17
        }
      ]
    },
    {
      "cell_type": "code",
      "source": [
        "serkan<ece"
      ],
      "metadata": {
        "colab": {
          "base_uri": "https://localhost:8080/"
        },
        "id": "fwm5X8CMbDR9",
        "outputId": "d231bd46-594c-4cec-e603-48221dc42b55"
      },
      "execution_count": 18,
      "outputs": [
        {
          "output_type": "execute_result",
          "data": {
            "text/plain": [
              "False"
            ]
          },
          "metadata": {},
          "execution_count": 18
        }
      ]
    },
    {
      "cell_type": "code",
      "source": [
        "ece>can"
      ],
      "metadata": {
        "colab": {
          "base_uri": "https://localhost:8080/"
        },
        "id": "DRcwAeuBbDUy",
        "outputId": "0119f62a-050d-4821-9851-92fbadd2986e"
      },
      "execution_count": 19,
      "outputs": [
        {
          "output_type": "execute_result",
          "data": {
            "text/plain": [
              "False"
            ]
          },
          "metadata": {},
          "execution_count": 19
        }
      ]
    },
    {
      "cell_type": "code",
      "source": [
        "serkan>ece and can<ece"
      ],
      "metadata": {
        "colab": {
          "base_uri": "https://localhost:8080/"
        },
        "id": "6VxXcrVibDXI",
        "outputId": "402a0884-63d0-400e-88bc-a80ddb4bca03"
      },
      "execution_count": 20,
      "outputs": [
        {
          "output_type": "execute_result",
          "data": {
            "text/plain": [
              "False"
            ]
          },
          "metadata": {},
          "execution_count": 20
        }
      ]
    },
    {
      "cell_type": "code",
      "source": [
        "serkan>ece or can<ece"
      ],
      "metadata": {
        "colab": {
          "base_uri": "https://localhost:8080/"
        },
        "id": "1VvFGx0ebDZr",
        "outputId": "b8ddad29-d890-4b54-a2ab-10e1791cebf5"
      },
      "execution_count": 21,
      "outputs": [
        {
          "output_type": "execute_result",
          "data": {
            "text/plain": [
              "True"
            ]
          },
          "metadata": {},
          "execution_count": 21
        }
      ]
    },
    {
      "cell_type": "markdown",
      "source": [
        "Ödev-3: Kullanıcıdan iki değer girmesini istenir. Girilen değerlerin toplama, çıkarma, çarpma, bölme sonuçlarını yazdırılır."
      ],
      "metadata": {
        "id": "vdhRq52jYbXU"
      }
    },
    {
      "cell_type": "code",
      "source": [
        "sayi1 = int(input(\"1.sayıyı giriniz:\"))\n",
        "sayi2 = int(input(\"2.sayıyı giriniz:\"))\n",
        "\n",
        "toplama=sayi1+sayi2\n",
        "çıkarma=sayi1-sayi2\n",
        "çarpma=sayi1*sayi2\n",
        "bölme=sayi1/sayi2\n",
        "\n",
        "print(\"toplama:\",toplama)\n",
        "print(\"çıkarma:\",çıkarma)\n",
        "print(\"çarpma:\",çarpma)\n",
        "print(\"bölme:\",bölme)\n"
      ],
      "metadata": {
        "colab": {
          "base_uri": "https://localhost:8080/"
        },
        "id": "RvMtTlKubnqZ",
        "outputId": "acebb3c7-f0ba-4331-c3b5-e336281e7bca"
      },
      "execution_count": 23,
      "outputs": [
        {
          "output_type": "stream",
          "name": "stdout",
          "text": [
            "1.sayıyı giriniz:10\n",
            "2.sayıyı giriniz:2\n",
            "toplama: 12\n",
            "çıkarma: 8\n",
            "çarpma: 20\n",
            "bölme: 5.0\n"
          ]
        }
      ]
    },
    {
      "cell_type": "markdown",
      "source": [
        "Ödev-4: Kullanıcıdan isim, yaş, şehir ve meslek bilgilerini istenir ve cevaplarını yazdırılır."
      ],
      "metadata": {
        "id": "cvMOfLmAYbab"
      }
    },
    {
      "cell_type": "code",
      "source": [
        "isim = input(\"İsminizi Gİriniz:\")\n",
        "yas = int(input(\"Yaşınızı Giriniz:\"))\n",
        "sehir = input(\"Şehrinizi Giriniz:\")\n",
        "meslek = input(\"Mesleğinizi Giriniz:\")"
      ],
      "metadata": {
        "colab": {
          "base_uri": "https://localhost:8080/"
        },
        "id": "YiFkc1dTct29",
        "outputId": "cc08484c-b11c-4526-b702-bafacc376e58"
      },
      "execution_count": 26,
      "outputs": [
        {
          "name": "stdout",
          "output_type": "stream",
          "text": [
            "İsminizi Gİriniz:serkan\n",
            "Yaşınızı Giriniz:22\n",
            "Şehrinizi Giriniz:konya\n",
            "Mesleğinizi Giriniz:öğrenci\n"
          ]
        }
      ]
    },
    {
      "cell_type": "code",
      "source": [
        "print(isim,yas,sehir,meslek)"
      ],
      "metadata": {
        "colab": {
          "base_uri": "https://localhost:8080/"
        },
        "id": "UkCmHyDRcugG",
        "outputId": "41eaab35-3ca7-445e-8b19-eaf94faab24d"
      },
      "execution_count": 27,
      "outputs": [
        {
          "output_type": "stream",
          "name": "stdout",
          "text": [
            "serkan 22 konya öğrenci\n"
          ]
        }
      ]
    },
    {
      "cell_type": "markdown",
      "source": [
        "Ödev-5: \"Hi-Kod Veri Bilimi Atölyesi\" ifadesini bir değişkene tanımlanır.\n",
        "\n",
        "İfadedeki her bir kelimeyi (\"Hi-Kod\", \"Veri\", \"Bilimi\", \"Atölyesi\") değişken içinden seçilir. İfadeyi hepsini büyük harf olacak hale çevrilir. (\"HI-KOD VERİ BİLİMİ ATÖLYESİ\") İfadeyi hepsini büyük harf olacak hale çevrilir.(\"hi-kod veri bilimi atölyesi\")\n",
        "\n",
        "\"0123456789\" ifadesindeki yalnızca çift sayıları ve yalnızca tek sayıları seçilir. (\"02468\", \"13579\")"
      ],
      "metadata": {
        "id": "gHc14MJIYbdJ"
      }
    },
    {
      "cell_type": "code",
      "execution_count": 28,
      "metadata": {
        "id": "zJBo-Ju4W8ak"
      },
      "outputs": [],
      "source": [
        "x = \"Hi-Kod Veri Bilimi Atölyesi\""
      ]
    },
    {
      "cell_type": "code",
      "source": [
        "x.split()"
      ],
      "metadata": {
        "colab": {
          "base_uri": "https://localhost:8080/"
        },
        "id": "BzFW-MhddKWC",
        "outputId": "6830b48b-e917-4f24-b3c3-60e1a305cf39"
      },
      "execution_count": 29,
      "outputs": [
        {
          "output_type": "execute_result",
          "data": {
            "text/plain": [
              "['Hi-Kod', 'Veri', 'Bilimi', 'Atölyesi']"
            ]
          },
          "metadata": {},
          "execution_count": 29
        }
      ]
    },
    {
      "cell_type": "code",
      "source": [
        "x.upper()"
      ],
      "metadata": {
        "colab": {
          "base_uri": "https://localhost:8080/",
          "height": 35
        },
        "id": "HtMll09tdKYn",
        "outputId": "fb05b0cc-7f0a-4b31-ba51-4eaaf5203043"
      },
      "execution_count": 30,
      "outputs": [
        {
          "output_type": "execute_result",
          "data": {
            "text/plain": [
              "'HI-KOD VERI BILIMI ATÖLYESI'"
            ],
            "application/vnd.google.colaboratory.intrinsic+json": {
              "type": "string"
            }
          },
          "metadata": {},
          "execution_count": 30
        }
      ]
    },
    {
      "cell_type": "code",
      "source": [
        "x.lower()"
      ],
      "metadata": {
        "colab": {
          "base_uri": "https://localhost:8080/",
          "height": 35
        },
        "id": "kunwSTUCdKa4",
        "outputId": "8100f671-1ce8-41b9-eef7-dc60cc7a006a"
      },
      "execution_count": 31,
      "outputs": [
        {
          "output_type": "execute_result",
          "data": {
            "text/plain": [
              "'hi-kod veri bilimi atölyesi'"
            ],
            "application/vnd.google.colaboratory.intrinsic+json": {
              "type": "string"
            }
          },
          "metadata": {},
          "execution_count": 31
        }
      ]
    },
    {
      "cell_type": "code",
      "source": [
        "sayilar=\"0123456789\""
      ],
      "metadata": {
        "id": "gkRgpP1gdKdJ"
      },
      "execution_count": 32,
      "outputs": []
    },
    {
      "cell_type": "code",
      "source": [
        "sayilar[::2]"
      ],
      "metadata": {
        "colab": {
          "base_uri": "https://localhost:8080/",
          "height": 35
        },
        "id": "d88aYvlbdXMV",
        "outputId": "0217a825-fb97-4a27-97c9-5f863f4e1b1b"
      },
      "execution_count": 33,
      "outputs": [
        {
          "output_type": "execute_result",
          "data": {
            "text/plain": [
              "'02468'"
            ],
            "application/vnd.google.colaboratory.intrinsic+json": {
              "type": "string"
            }
          },
          "metadata": {},
          "execution_count": 33
        }
      ]
    },
    {
      "cell_type": "code",
      "source": [
        "sayilar[1::2]"
      ],
      "metadata": {
        "colab": {
          "base_uri": "https://localhost:8080/",
          "height": 35
        },
        "id": "WVkyWTTcdXe_",
        "outputId": "cba640f2-35fc-4ce9-c0f6-d221275ef82d"
      },
      "execution_count": 34,
      "outputs": [
        {
          "output_type": "execute_result",
          "data": {
            "text/plain": [
              "'13579'"
            ],
            "application/vnd.google.colaboratory.intrinsic+json": {
              "type": "string"
            }
          },
          "metadata": {},
          "execution_count": 34
        }
      ]
    }
  ]
}