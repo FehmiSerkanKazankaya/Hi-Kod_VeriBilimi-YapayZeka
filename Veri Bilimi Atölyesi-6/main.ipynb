{
  "nbformat": 4,
  "nbformat_minor": 0,
  "metadata": {
    "colab": {
      "provenance": []
    },
    "kernelspec": {
      "name": "python3",
      "display_name": "Python 3"
    },
    "language_info": {
      "name": "python"
    }
  },
  "cells": [
    {
      "cell_type": "markdown",
      "source": [
        "# **Veri Bilimi Atölyesi-6**\n",
        "\n"
      ],
      "metadata": {
        "id": "Q7StqYmK08af"
      }
    },
    {
      "cell_type": "markdown",
      "source": [
        "Bir sözlük oluşturulur ve bu sözlükte öğrencilerin isimleri ve Matematik, Fizik, Kimya notları tutulur. Kullanıcıdan isim ve ders ismi(Matematik, Fizik, Kimya) istenir ve bu bilgilere göre çıktı verilir."
      ],
      "metadata": {
        "id": "5Scv3SS508dK"
      }
    },
    {
      "cell_type": "code",
      "source": [
        "dict_ogr ={\"Serkan\" : {\"Matematik\" : 100, \"Fizik\" : 100, \"Kimya\" : 100},\n",
        "\"Mert\" : {\"Matematik\" : 95, \"Fizik\": 90, \"Kimya\" : 80},\n",
        "\"Ece\" : {\"Matematik\" : 90, \"Fizik\" : 70, \"Kimya\": 60}}\n",
        "\n",
        "isim = str(input(\"Öğrenci Adını Giriniz: \")).capitalize()\n",
        "\n",
        "if isim in dict_ogr:\n",
        "    ders = str(input(\"Ders Adını Giriniz: \")).capitalize()\n",
        "    i = dict_ogr[isim][ders]\n",
        "    print(f\"{isim} adlı öğrencinin {ders} notu: {i}\")\n",
        "\n",
        "else:\n",
        "    print(\"Yanlış İsim Girdiniz.\")"
      ],
      "metadata": {
        "colab": {
          "base_uri": "https://localhost:8080/"
        },
        "id": "bU3Lmd5U1D89",
        "outputId": "0c96ab17-093a-40fb-b252-cdbb07985831"
      },
      "execution_count": 2,
      "outputs": [
        {
          "output_type": "stream",
          "name": "stdout",
          "text": [
            "Öğrenci Adını Giriniz: Serkan\n",
            "Ders Adını Giriniz: Matematik\n",
            "Serkan adlı öğrencinin Matematik notu: 100\n"
          ]
        }
      ]
    },
    {
      "cell_type": "markdown",
      "source": [
        "Sözlük üzerinde değerleri değiştirme, yeni değer ekleme, kullanıcıya ulaşmak istediği bilgileri sorma gibi uygulamalar yapın."
      ],
      "metadata": {
        "id": "yJ673xIR08fH"
      }
    },
    {
      "cell_type": "code",
      "source": [
        "dict_ogr[\"Ece\"][\"Fizik\"] + 25"
      ],
      "metadata": {
        "colab": {
          "base_uri": "https://localhost:8080/"
        },
        "id": "7LGq1MHB2BbF",
        "outputId": "8d28a458-3170-41ce-9b27-a72158b1f551"
      },
      "execution_count": 5,
      "outputs": [
        {
          "output_type": "execute_result",
          "data": {
            "text/plain": [
              "95"
            ]
          },
          "metadata": {},
          "execution_count": 5
        }
      ]
    },
    {
      "cell_type": "code",
      "source": [
        "dict_ogr[\"Mert\"] = {\"Matematik\" : 80, \"Fizik\" : 95, \"Kimya\" : 85}\n",
        "print(dict_ogr)"
      ],
      "metadata": {
        "colab": {
          "base_uri": "https://localhost:8080/"
        },
        "id": "JCois9ia2F82",
        "outputId": "c8695e9f-e201-499c-a522-90bb23a22fb7"
      },
      "execution_count": 8,
      "outputs": [
        {
          "output_type": "stream",
          "name": "stdout",
          "text": [
            "{'Serkan': {'Matematik': 100, 'Fizik': 100, 'Kimya': 100}, 'Mert': {'Matematik': 80, 'Fizik': 95, 'Kimya': 85}, 'Ece': {'Matematik': 90, 'Fizik': 70, 'Kimya': 60}}\n"
          ]
        }
      ]
    },
    {
      "cell_type": "code",
      "source": [
        "print(len(dict_ogr))"
      ],
      "metadata": {
        "colab": {
          "base_uri": "https://localhost:8080/"
        },
        "id": "ZnBtI6Yz2HVh",
        "outputId": "28298ea8-5122-4664-e706-6a86f364305a"
      },
      "execution_count": 9,
      "outputs": [
        {
          "output_type": "stream",
          "name": "stdout",
          "text": [
            "3\n"
          ]
        }
      ]
    },
    {
      "cell_type": "code",
      "source": [
        "dict_ogr.get(\"Mert\")"
      ],
      "metadata": {
        "colab": {
          "base_uri": "https://localhost:8080/"
        },
        "id": "U-cPlpmo2HX4",
        "outputId": "4dc9c62a-cb5d-4b2b-eadc-d5e94bfbd476"
      },
      "execution_count": 13,
      "outputs": [
        {
          "output_type": "execute_result",
          "data": {
            "text/plain": [
              "{'Matematik': 80, 'Fizik': 95, 'Kimya': 85}"
            ]
          },
          "metadata": {},
          "execution_count": 13
        }
      ]
    }
  ]
}