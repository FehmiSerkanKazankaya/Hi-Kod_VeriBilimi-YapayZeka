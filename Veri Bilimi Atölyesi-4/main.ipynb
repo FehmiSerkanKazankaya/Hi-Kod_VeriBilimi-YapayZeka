{
  "nbformat": 4,
  "nbformat_minor": 0,
  "metadata": {
    "colab": {
      "provenance": []
    },
    "kernelspec": {
      "name": "python3",
      "display_name": "Python 3"
    },
    "language_info": {
      "name": "python"
    }
  },
  "cells": [
    {
      "cell_type": "markdown",
      "source": [
        "# **Veri Bilimi Atölyesi-4**"
      ],
      "metadata": {
        "id": "GC6J2M2qj84x"
      }
    },
    {
      "cell_type": "markdown",
      "source": [
        "Kullanıcıdan pi değeri ve yarıçap bilgisi alarak dairenin alanını hesaplayan bir fonksiyon oluşturulur.\n",
        "\n"
      ],
      "metadata": {
        "id": "lLT7kSpaj87q"
      }
    },
    {
      "cell_type": "code",
      "source": [
        "def daire_alan(pi,yarıcap):\n",
        "    sonuc = pi*yarıcap**2\n",
        "    return sonuc\n",
        "daire_alan(3.14,5)"
      ],
      "metadata": {
        "colab": {
          "base_uri": "https://localhost:8080/"
        },
        "id": "ZGKvhrG6kJWM",
        "outputId": "7e485f34-20f2-4eb3-ae05-eb73739e88cb"
      },
      "execution_count": 1,
      "outputs": [
        {
          "output_type": "execute_result",
          "data": {
            "text/plain": [
              "78.5"
            ]
          },
          "metadata": {},
          "execution_count": 1
        }
      ]
    },
    {
      "cell_type": "markdown",
      "source": [
        "Faktöriyel adında fonksiyon oluşturulur. Döngü kullanarak parametre olarak girilen sayının faktöriyeli hesaplanır. Format metodunu kullanılarak ekrana yazdırılır."
      ],
      "metadata": {
        "id": "3yH4h6FTj9AB"
      }
    },
    {
      "cell_type": "code",
      "source": [
        "def faktoriyel(sayi):\n",
        "    sonuc=1\n",
        "    sayitut=sayi\n",
        "    while sayi !=0:\n",
        "        sonuc *= sayi\n",
        "        sayi-=1\n",
        "    print(\"{} Sayısının Faktöriyeli {} Olur.\".format(sayitut,sonuc))\n",
        "faktoriyel(4)"
      ],
      "metadata": {
        "colab": {
          "base_uri": "https://localhost:8080/"
        },
        "id": "HC_GIE0_kZE_",
        "outputId": "ca9c8e5f-99fd-4958-ad51-ad52aec695f7"
      },
      "execution_count": 2,
      "outputs": [
        {
          "output_type": "stream",
          "name": "stdout",
          "text": [
            "4 Sayısının Faktöriyeli 24 Olur.\n"
          ]
        }
      ]
    },
    {
      "cell_type": "markdown",
      "source": [
        "Kişinin fonksiyona doğum yılını vererek kaç yaşında olduğunu hesaplayan bir fonksiyon oluşturun."
      ],
      "metadata": {
        "id": "1OzR9P-_krIy"
      }
    },
    {
      "cell_type": "code",
      "source": [
        "def yashesapla(yıl):\n",
        "    yas = 2024 - yıl\n",
        "    return yas\n",
        "yashesapla(2001)"
      ],
      "metadata": {
        "colab": {
          "base_uri": "https://localhost:8080/"
        },
        "id": "h3kAwevMkrly",
        "outputId": "20f84f3d-f2fa-4cd4-9a4d-bfae88a2a640"
      },
      "execution_count": 3,
      "outputs": [
        {
          "output_type": "execute_result",
          "data": {
            "text/plain": [
              "23"
            ]
          },
          "metadata": {},
          "execution_count": 3
        }
      ]
    },
    {
      "cell_type": "markdown",
      "source": [
        "Doğum yılı ve isim bilgisi verilen fonksiyon kişinin emekli olup olmadığını söylesin.(Kişi 65 yaşında ise emekli olur.) Burada yaş hesabını yukarıdaki örnekteki fonksiyonu kullanarak yapsın.(Yani fonksiyon içinde fonksiyon kullanmanızı istiyorum :)) Kişi 65 yaşında ya da daha fazlaysa \"Emekli oldunuz\" yanıtını, 65 yaşından küçükse emekliliğine kaç yıl kaldığını da hesaplayarak \"(isim) emekliliğine (yıl) kaldı.\" yanıtını versin."
      ],
      "metadata": {
        "id": "VcWvKQR5lHjJ"
      }
    },
    {
      "cell_type": "code",
      "source": [
        "def emekli(dogumyılı,isim):\n",
        "    yas= yashesapla(dogumyılı)\n",
        "    if yas>=65:\n",
        "        print(\"Emekli Oldunuz\")\n",
        "    else:\n",
        "        kalan_yil = 65 - yas\n",
        "        print(\"{} emekliliğine {} yıl kaldı.\".format(isim,kalan_yil))\n",
        "emekli(2001,\"serkan\")"
      ],
      "metadata": {
        "colab": {
          "base_uri": "https://localhost:8080/"
        },
        "id": "DdF_wKu6lIDX",
        "outputId": "0a42c363-d498-44e0-beab-0a84803154d3"
      },
      "execution_count": 4,
      "outputs": [
        {
          "output_type": "stream",
          "name": "stdout",
          "text": [
            "serkan emekliliğine 42 yıl kaldı.\n"
          ]
        }
      ]
    }
  ]
}